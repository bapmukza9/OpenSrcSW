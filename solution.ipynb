{
 "cells": [
  {
   "cell_type": "code",
   "execution_count": 14,
   "metadata": {},
   "outputs": [
    {
     "name": "stdout",
     "output_type": "stream",
     "text": [
      "(1,2)\n",
      "(3,4)\n",
      "(4,6)\n"
     ]
    }
   ],
   "source": [
    "class Point:\n",
    "    def __init__(self, x, y):\n",
    "        self.x = int(x)\n",
    "        self.y = int(y)\n",
    "    \n",
    "    def __add__(self, o):\n",
    "        tmp = Point(self.x + o.x, self.y + o.y)\n",
    "        return tmp\n",
    "    \n",
    "    def show(self):\n",
    "        print(\"(\" +  str(self.x) + \",\" + str(self.y) + \")\")\n",
    "    \n",
    "    \n",
    "    \n",
    "    \n",
    "a = Point(1,2)\n",
    "a.show()\n",
    "\n",
    "b = Point(3,4)\n",
    "b.show()\n",
    "\n",
    "a = a+b\n",
    "a.show()"
   ]
  },
  {
   "cell_type": "code",
   "execution_count": 42,
   "metadata": {},
   "outputs": [
    {
     "name": "stdout",
     "output_type": "stream",
     "text": [
      "Max Week = 05/08 ~ 05/14\n"
     ]
    }
   ],
   "source": [
    "import csv\n",
    "f = open('seoul.csv')\n",
    "data = csv.reader(f)\n",
    "next(data)\n",
    "\n",
    "save = [0]\n",
    "index = 0\n",
    "max_index = 0\n",
    "tmp_start_day = ''\n",
    "start_day = ''\n",
    "end_day = ''\n",
    "MAX = 0\n",
    "\n",
    "for row in data:\n",
    "    if(int(row[0].split('-')[2]) %7 == 1  ):\n",
    "        tmp_start_day = row[0]\n",
    "        \n",
    "    save[index] += ( float(row[4]) - float(row[3]) )\n",
    "    if ( int(row[0].split('-')[2]) %7 == 0  ) : \n",
    "        if (MAX < save[index]):\n",
    "            MAX = save[index]\n",
    "            max_index = index\n",
    "            start_day = tmp_start_day\n",
    "            end_day = row[0]\n",
    "            \n",
    "        i = 1\n",
    "        index = index + 1\n",
    "        save.append(0)\n",
    "\n",
    "        \n",
    "print('Max Week = ' + start_day.split('-')[1] + '/' + start_day.split('-')[2] + ' ~ ' + end_day.split('-')[1] + '/' + end_day.split('-')[2])\n",
    "\n",
    "f.close()"
   ]
  },
  {
   "cell_type": "code",
   "execution_count": 54,
   "metadata": {},
   "outputs": [
    {
     "name": "stdout",
     "output_type": "stream",
     "text": [
      "[1 1 0 1 0 1]\n",
      "[4, 4, 3]\n"
     ]
    }
   ],
   "source": [
    "import numpy as np\n",
    "import pandas as pd\n",
    "import matplotlib.pyplot as plt\n",
    "\n",
    "docs = np.array([[1, 1, 0, 1, 0, 1], [1, 1, 1, 0, 1, 0], [1, 1, 0, 1, 0, 0] ])\n",
    "query = np.array( [1, 1, 0, 0, 1, 0] )\n",
    "#ans = np.dot(docs, query) / (np.abs(docs) + np.abs(query))\n",
    "sum = [0, 0, 0]\n",
    "print(docs[0])\n",
    "for j in range(3):\n",
    "    for i in range(docs[j].size):\n",
    "        sum[j] += docs[j][i]\n",
    "\n",
    "print(sum)\n"
   ]
  }
 ],
 "metadata": {
  "kernelspec": {
   "display_name": "Python 3",
   "language": "python",
   "name": "python3"
  },
  "language_info": {
   "codemirror_mode": {
    "name": "ipython",
    "version": 3
   },
   "file_extension": ".py",
   "mimetype": "text/x-python",
   "name": "python",
   "nbconvert_exporter": "python",
   "pygments_lexer": "ipython3",
   "version": "3.8.5"
  }
 },
 "nbformat": 4,
 "nbformat_minor": 4
}

{
 "cells": [
  {
   "cell_type": "code",
   "execution_count": 59,
   "metadata": {},
   "outputs": [
    {
     "name": "stdout",
     "output_type": "stream",
     "text": [
      "Numbers? 10 456 87 78\n",
      "Max = 456\n"
     ]
    }
   ],
   "source": [
    "# 실습 2: 최대값 구하기\n",
    "\n",
    "numbersString = input(\"Numbers? \")\n",
    "numbers = numbersString.split(\" \")\n",
    "for i, number in enumerate(numbers):\n",
    "    numbers[i] = int(number)\n",
    "print(\"Max =\", max(numbers))"
   ]
  },
  {
   "cell_type": "code",
   "execution_count": 35,
   "metadata": {},
   "outputs": [
    {
     "name": "stdout",
     "output_type": "stream",
     "text": [
      "암호화(0), 복호화(1) 선택 : 0\n",
      "암호화할 문자열 : abc def\n",
      "\"abc def\" -> 암호화 -> \"efg bcd\"\n"
     ]
    }
   ],
   "source": [
    "# 실습 3: 암호화/복호화\n",
    "\n",
    "choose = input(\"암호화(0), 복호화(1) 선택 : \")\n",
    "\n",
    "def encryption(string):\n",
    "    original = string\n",
    "    stringSplit = string.split(\" \")\n",
    "    enc = \"\"\n",
    "    for i in range(len(stringSplit)-1, -1, -1):\n",
    "        for char in stringSplit[i]:\n",
    "            enc += chr(ord(char)+1)\n",
    "        if i != 0:\n",
    "            enc += \" \"\n",
    "    print(\"\\\"\" + string + \"\\\" -> 암호화 -> \\\"\" +  enc + \"\\\"\")\n",
    "    \n",
    "def decoding(string):\n",
    "    original = string\n",
    "    stringSplit = string.split(\" \")\n",
    "    dec = \"\"\n",
    "    for i in range(len(stringSplit)-1, -1, -1):\n",
    "        for char in stringSplit[i]:\n",
    "            dec += chr(ord(char)-1)\n",
    "        if i != 0:\n",
    "            dec += \" \"\n",
    "    print(\"\\\"\" + string + \"\\\" -> 복호화 -> \\\"\" + dec + \"\\\"\")\n",
    "\n",
    "if int(choose):\n",
    "    data = input(\"복호화할 문자열 : \")\n",
    "    decoding(data)\n",
    "else:\n",
    "    data = input(\"암호화할 문자열 : \")\n",
    "    encryption(data)"
   ]
  },
  {
   "cell_type": "code",
   "execution_count": 60,
   "metadata": {},
   "outputs": [
    {
     "name": "stdout",
     "output_type": "stream",
     "text": [
      "10명의 이름과 전화번호를 입력하세요(ex. 홍길동 010-1234-5678)\n",
      "\n",
      "홍길동 010-1234-5678\n",
      "김김김 010-2345-6789\n",
      "님님님 010-3456-7890\n",
      "딤딤딤 010-4567-8901\n",
      "림림림 010-5678-9012\n",
      "밈밈밈 010-6789-0123\n",
      "빔빔빔 010-7890-1234\n",
      "심심심 010-8901-2345\n",
      "임임임 010-9012-3456\n",
      "짐짐짐 010-0123-4567\n",
      "\n",
      "이름으로 찾기(1) / 번호로 찾기(2) : 2\n",
      "번호: 010-6789-0123\n",
      "010-6789-0123 : 밈밈밈\n"
     ]
    }
   ],
   "source": [
    "# 실습 4: 전화번호부\n",
    "\n",
    "print(\"10명의 이름과 전화번호를 입력하세요(ex. 홍길동 010-1234-5678)\\n\")\n",
    "dic = {}\n",
    "for i in range(10):\n",
    "    data = input()\n",
    "    dic[data.split(\" \")[0]] = data.split(\" \")[1]\n",
    "    \n",
    "menu = int(input(\"\\n이름으로 찾기(1) / 번호로 찾기(2) : \"))\n",
    "if menu == 1:\n",
    "    name = input(\"이름: \")\n",
    "    print(\"\\'\" + name + \"\\'의 전화번호 : \" + dic[name])\n",
    "elif menu == 2:\n",
    "    tel = input(\"번호: \")\n",
    "    rdic = {v:k for k,v in dic.items()}\n",
    "    print(tel + \" : \" + rdic[tel])"
   ]
  }
 ],
 "metadata": {
  "kernelspec": {
   "display_name": "Python 3",
   "language": "python",
   "name": "python3"
  },
  "language_info": {
   "codemirror_mode": {
    "name": "ipython",
    "version": 3
   },
   "file_extension": ".py",
   "mimetype": "text/x-python",
   "name": "python",
   "nbconvert_exporter": "python",
   "pygments_lexer": "ipython3",
   "version": "3.8.5"
  }
 },
 "nbformat": 4,
 "nbformat_minor": 4
}

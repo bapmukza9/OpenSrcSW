{
 "cells": [
  {
   "cell_type": "code",
   "execution_count": 14,
   "metadata": {},
   "outputs": [
    {
     "name": "stdout",
     "output_type": "stream",
     "text": [
      "명령어: cp file1.txt file2.txt\n",
      "file1.txt -> file2.txt copy 완료\n"
     ]
    }
   ],
   "source": [
    "# 실습 6: copy\n",
    "\n",
    "read = input(\"명령어: \")\n",
    "data = read.split()\n",
    "if data[0] == \"cp\":\n",
    "    f1 = open(data[1], 'r')\n",
    "    f2 = open(data[2], 'w')\n",
    "    f2.write(f1.read())\n",
    "    f1.close()\n",
    "    f2.close()\n",
    "    print(data[1] + \" -> \" + data[2] + \" copy 완료\")\n",
    "else:\n",
    "    print(\"명령어를 확인하세요\")"
   ]
  },
  {
   "cell_type": "code",
   "execution_count": 21,
   "metadata": {},
   "outputs": [
    {
     "name": "stdout",
     "output_type": "stream",
     "text": [
      "명령어: wc file2.txt\n",
      "라인 수: 3\n",
      "단어 수: 9\n"
     ]
    }
   ],
   "source": [
    "# 실습 7: wc\n",
    "\n",
    "read = input(\"명령어: \")\n",
    "data = read.split()\n",
    "if data[0] == \"wc\":\n",
    "    numberOfLines = 0\n",
    "    numberOfWords = 0\n",
    "    file = open(data[1], 'r')\n",
    "    for line in file:\n",
    "        line = line.strip()\n",
    "        words = line.split(\" \")\n",
    "        for word in words:\n",
    "            numberOfWords += 1\n",
    "        numberOfLines +=1\n",
    "    print(\"라인 수: \" + str(numberOfLines) + \"\\n단어 수: \" + str(numberOfWords))"
   ]
  },
  {
   "cell_type": "code",
   "execution_count": 29,
   "metadata": {},
   "outputs": [
    {
     "name": "stdout",
     "output_type": "stream",
     "text": [
      "1 + 2 = 3 입니다.\n",
      "-5 - 1 = -6 입니다.\n",
      "2 * 3 = 6 입니다.\n",
      "6 / 2 = 3 입니다.\n"
     ]
    }
   ],
   "source": [
    "# 실습 8: 사칙 연산 클래스\n",
    "\n",
    "class Calc:\n",
    "    def sum(self, a, b):\n",
    "        result = a + b\n",
    "        str = \"{0:.0f} + {1:.0f} = {2:.0f} 입니다.\".format(a,b, (a+b))\n",
    "        print(str)\n",
    "    def sub(self, a, b):\n",
    "        result = a - b\n",
    "        str = \"{0:.0f} - {1:.0f} = {2:.0f} 입니다.\".format(a,b, (a-b))\n",
    "        print(str)\n",
    "    def multi(self, a, b):\n",
    "        result = a * b\n",
    "        str = \"{0:.0f} * {1:.0f} = {2:.0f} 입니다.\".format(a,b, (a*b))\n",
    "        print(str)\n",
    "    def divi(self, a, b):\n",
    "        result = a / b\n",
    "        str = \"{0:.0f} / {1:.0f} = {2:.0f} 입니다.\".format(a,b, (a/b))\n",
    "        print(str)\n",
    "calc = Calc()\n",
    "calc.sum(1,2)\n",
    "calc.sub(-5,1)\n",
    "calc.multi(2,3)\n",
    "calc.divi(6,2)"
   ]
  },
  {
   "cell_type": "code",
   "execution_count": 27,
   "metadata": {},
   "outputs": [
    {
     "name": "stdout",
     "output_type": "stream",
     "text": [
      "계산식 입력: 1 + 2 - 3 * 4 + 5\n",
      "계산식 출력: 1+2-3*4+5=-4.0\n"
     ]
    }
   ],
   "source": [
    "# 실습 9: 계산기\n",
    "\n",
    "class Stack:\n",
    "    def __init__(self):\n",
    "        self.datas = list()\n",
    "    def push(self, data):\n",
    "        self.datas.append(data)\n",
    "        return data\n",
    "    def pop(self):\n",
    "        test = self.datas.pop()\n",
    "        return test\n",
    "\n",
    "class Calc:\n",
    "    def __init__(self, nums, ops):\n",
    "        self.nums = nums\n",
    "        self.ops = ops\n",
    "        self.numStack = Stack()\n",
    "        self.opStack = Stack()\n",
    "        \n",
    "        print(\"계산식 출력: \", end='')\n",
    "        for i, num in enumerate(self.nums):\n",
    "            if i == 0:\n",
    "                print(num, end='')\n",
    "                self.numStack.push(float(num))\n",
    "                continue\n",
    "            \n",
    "            print(self.ops[i-1], end='')\n",
    "            print(num, end='')\n",
    "            if self.ops[i-1] == \"-\":\n",
    "                self.opStack.push(\"+\")\n",
    "                self.numStack.push( (-1 * float(num)) )\n",
    "            elif self.ops[i-1] == \"+\":\n",
    "                self.opStack.push(\"+\")\n",
    "                self.numStack.push( (float(num)) )\n",
    "            else:\n",
    "                self.opStack.push(self.ops[i-1])\n",
    "                self.numStack.push( float(num) )\n",
    "                      \n",
    "            if self.ops[i-1] == \"*\" or self.ops[i-1] == \"/\":\n",
    "                c = self.calc(self.opStack.pop(), float(self.numStack.pop()), float(self.numStack.pop()))\n",
    "                self.numStack.push(float(c))\n",
    "                \n",
    "        while len(self.numStack.datas) > 1:\n",
    "            if i == 0:\n",
    "                continue\n",
    "            c = self.calc(self.opStack.pop(), float(self.numStack.pop()), float(self.numStack.pop()))\n",
    "            self.numStack.push(float(c))\n",
    "        print(\"=\" + str(self.numStack.pop()))        \n",
    "            \n",
    "    def calc(self, op, a, b):\n",
    "        if op == \"+\":\n",
    "            return self.sum(a, b)\n",
    "        elif op == \"-\":\n",
    "            return self.sub(a, b)\n",
    "        elif op == \"*\":\n",
    "            return self.multi(a, b)\n",
    "        else:\n",
    "            return self.divi(a, b)\n",
    "    \n",
    "    def sum(self, a, b):\n",
    "        return a + b\n",
    "    def sub(self, a, b):\n",
    "        return a - b\n",
    "    def multi(self, a, b):\n",
    "        return a * b        \n",
    "    def divi(self, a, b):\n",
    "        return b / a\n",
    "\n",
    "datas = input(\"계산식 입력: \")\n",
    "nums = list([data for data in datas.split() if data.isdigit()])\n",
    "ops = list([data for data in datas.split() if not data.isdigit()])\n",
    "calc = Calc(nums, ops)"
   ]
  }
 ],
 "metadata": {
  "kernelspec": {
   "display_name": "Python 3",
   "language": "python",
   "name": "python3"
  },
  "language_info": {
   "codemirror_mode": {
    "name": "ipython",
    "version": 3
   },
   "file_extension": ".py",
   "mimetype": "text/x-python",
   "name": "python",
   "nbconvert_exporter": "python",
   "pygments_lexer": "ipython3",
   "version": "3.8.5"
  }
 },
 "nbformat": 4,
 "nbformat_minor": 4
}

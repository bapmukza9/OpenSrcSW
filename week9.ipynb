{
 "cells": [
  {
   "cell_type": "code",
   "execution_count": 40,
   "metadata": {},
   "outputs": [
    {
     "name": "stdout",
     "output_type": "stream",
     "text": [
      "x값 : 1\n",
      "y값 : 11\n"
     ]
    }
   ],
   "source": [
    "# 실습 문제 1번\n",
    "x = int(input(\"x값 : \"))\n",
    "y = 3*(x**2)+5*x+3\n",
    "print(\"y값 :\", y)"
   ]
  },
  {
   "cell_type": "code",
   "execution_count": 45,
   "metadata": {},
   "outputs": [
    {
     "name": "stdout",
     "output_type": "stream",
     "text": [
      "반지름 : 3\n",
      "원의 둘레 : 18.840000\n",
      "원의 넓이 : 28.260000\n"
     ]
    }
   ],
   "source": [
    "# 실습 문제 2번\n",
    "r = float(input(\"반지름 : \"))\n",
    "pi = 3.14\n",
    "l = 2*pi*r\n",
    "s = pi*(r**2)\n",
    "print(\"원의 둘레 : {0:f}\\n원의 넓이 : {1:f}\".format(l,s))"
   ]
  }
 ],
 "metadata": {
  "kernelspec": {
   "display_name": "Python 3",
   "language": "python",
   "name": "python3"
  },
  "language_info": {
   "codemirror_mode": {
    "name": "ipython",
    "version": 3
   },
   "file_extension": ".py",
   "mimetype": "text/x-python",
   "name": "python",
   "nbconvert_exporter": "python",
   "pygments_lexer": "ipython3",
   "version": "3.8.5"
  }
 },
 "nbformat": 4,
 "nbformat_minor": 4
}
